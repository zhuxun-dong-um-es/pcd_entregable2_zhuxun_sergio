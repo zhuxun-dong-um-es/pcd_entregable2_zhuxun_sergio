{
  "nbformat": 4,
  "nbformat_minor": 0,
  "metadata": {
    "colab": {
      "provenance": []
    },
    "kernelspec": {
      "name": "python3",
      "display_name": "Python 3"
    },
    "language_info": {
      "name": "python"
    }
  },
  "cells": [
    {
      "cell_type": "code",
      "source": [
        "#Instalamos la librería de kafka-python\n",
        "!pip install kafka-python\n",
        "#Descargamos y arrancamos Apache Kafka\n",
        "!curl -sSOL https://dlcdn.apache.org/kafka/3.6.2/kafka_2.13-3.6.2.tgz\n",
        "!tar -xzf kafka_2.13-3.6.2.tgz\n",
        "!./kafka_2.13-3.6.2/bin/zookeeper-server-start.sh -daemon ./kafka_2.13-3.6.2/config/zookeeper.properties\n",
        "!./kafka_2.13-3.6.2/bin/kafka-server-start.sh -daemon ./kafka_2.13-3.6.2/config/server.properties\n",
        "!echo \"Esperamos 10 segundos hasta que los servicios kafka y zookeeper están activos y funcionando\"\n",
        "!sleep 10\n",
        "!./kafka_2.13-3.6.2/bin/kafka-topics.sh --create --topic temperaturas --bootstrap-server localhost:9092"
      ],
      "metadata": {
        "colab": {
          "base_uri": "https://localhost:8080/"
        },
        "id": "kIO5PdNuvgH9",
        "outputId": "fb40e3ff-adc7-4275-bb57-a9464725d9cc"
      },
      "execution_count": null,
      "outputs": [
        {
          "output_type": "stream",
          "name": "stdout",
          "text": [
            "Collecting kafka-python\n",
            "  Downloading kafka_python-2.0.2-py2.py3-none-any.whl (246 kB)\n",
            "\u001b[?25l     \u001b[90m━━━━━━━━━━━━━━━━━━━━━━━━━━━━━━━━━━━━━━━━\u001b[0m \u001b[32m0.0/246.5 kB\u001b[0m \u001b[31m?\u001b[0m eta \u001b[36m-:--:--\u001b[0m\r\u001b[2K     \u001b[91m━━━━━━━━━━━\u001b[0m\u001b[91m╸\u001b[0m\u001b[90m━━━━━━━━━━━━━━━━━━━━━━━━━━━━\u001b[0m \u001b[32m71.7/246.5 kB\u001b[0m \u001b[31m1.9 MB/s\u001b[0m eta \u001b[36m0:00:01\u001b[0m\r\u001b[2K     \u001b[90m━━━━━━━━━━━━━━━━━━━━━━━━━━━━━━━━━━━━━━━━\u001b[0m \u001b[32m246.5/246.5 kB\u001b[0m \u001b[31m3.5 MB/s\u001b[0m eta \u001b[36m0:00:00\u001b[0m\n",
            "\u001b[?25hInstalling collected packages: kafka-python\n",
            "Successfully installed kafka-python-2.0.2\n",
            "Esperamos 10 segundos hasta que los servicios kafka y zookeeper están activos y funcionando\n",
            "Created topic temperaturas.\n"
          ]
        }
      ]
    },
    {
      "cell_type": "code",
      "source": [
        "from kafka import KafkaProducer, KafkaConsumer\n",
        "import time\n",
        "import json\n",
        "import random\n",
        "import time\n",
        "import pandas as pd"
      ],
      "metadata": {
        "id": "a08dOWSJi4vC"
      },
      "execution_count": null,
      "outputs": []
    },
    {
      "cell_type": "code",
      "source": [
        "from abc import ABC, abstractmethod\n",
        "import numpy as np\n",
        "from functools import reduce\n",
        "import time\n",
        "\n",
        "\"\"\"\n",
        "Versión adaptada con funcionalidades para Apache Kafka.\n",
        "Esencialmente, es idéntico al código proporcionado, así que no lleva apenas documentación.\n",
        "Evidentemente, se han añadido nuevos métodos en SistemaGestor para poder leer y extraer\n",
        "los datos del tópico (que se pasa como parámetro a la hora de instanciar):\n",
        "  start_reading(): llama al método receive_data_and_process\n",
        "\n",
        "  receive_data_and_process(): accede al tópico, extrae y almacena los datos para\n",
        "                              realizar el procesado.\n",
        "\"\"\"\n",
        "\n",
        "\n",
        "#R1. Singleton\n",
        "class SistemaGestor:\n",
        "\n",
        "    _unicaInstancia = None\n",
        "\n",
        "    def __init__(self, topic):\n",
        "        self.datos = [] #Lista de datos, que en principio almacenaremos 12\n",
        "        self.estadisticos = {} #Diccionario de estadísticos\n",
        "        self.umbral = np.inf\n",
        "        self.supera_umbral = False\n",
        "        self.sobrecrecimiento = False\n",
        "        self.ops = [\"estadisticos\", \"umbral\", \"sobrecrecimiento\"]\n",
        "\n",
        "        self._consumer = KafkaConsumer(topic,\n",
        "                                       bootstrap_servers='localhost:9092',\n",
        "                                       value_deserializer=lambda x: json.loads(x.decode('utf-8')),\n",
        "                                       group_id='temperaturas')\n",
        "    @property\n",
        "    def consumer(self):\n",
        "      return self._consumer\n",
        "\n",
        "    @consumer.setter\n",
        "    def consumer(self, value):\n",
        "      if isinstance(value, KafkaConsumer):\n",
        "        self._consumer = value\n",
        "\n",
        "    def start_reading(self):\n",
        "      \"\"\"\n",
        "      llama al método receive_data_and_process. Para nada necesario este método...\n",
        "      \"\"\"\n",
        "      self.receive_data_and_process()\n",
        "\n",
        "    def receive_data_and_process(self):\n",
        "        \"\"\"\n",
        "        accede al tópico, extrae y almacena los datos para realizar el procesado.\n",
        "        \"\"\"\n",
        "        for message in self._consumer:\n",
        "            self.actualizar(message.value)\n",
        "            self.procesar()\n",
        "            print(self.estadisticos)\n",
        "\n",
        "\n",
        "    @classmethod\n",
        "    def get_instance(cls, topic):\n",
        "        if cls._unicaInstancia == None:\n",
        "            cls._unicaInstancia = cls(topic)\n",
        "        return cls._unicaInstancia\n",
        "\n",
        "    def set_umbral(self, umbral):\n",
        "        self.umbral = umbral\n",
        "\n",
        "    def actualizar(self, dato):\n",
        "        if len(self.datos) == 12:\n",
        "            i = 1\n",
        "            while i < 11:\n",
        "                aux = self.datos[i]\n",
        "                self.datos[i-1] = aux\n",
        "                i = i + 1\n",
        "            self.datos[-1] = dato\n",
        "\n",
        "        else:\n",
        "            self.datos.append(dato)\n",
        "\n",
        "\n",
        "    def procesar(self):\n",
        "\n",
        "        op1 = Sobrecrecimiento()\n",
        "        op2 = Umbral(successor=op1)\n",
        "        op3 = Estadistico(successor=op2)\n",
        "\n",
        "        for op in self.ops:\n",
        "            if op == \"estadisticos\":\n",
        "                e1 = MeanSV()\n",
        "                e2 = MaxMin()\n",
        "                e3 = Quantile()\n",
        "                estrategias = [e1, e2, e3]\n",
        "                for e in estrategias:\n",
        "                    op3.set_estrategia(e)\n",
        "                    op3.realizar_operacion(op, self.estadisticos, list(zip(*self.datos))[1])\n",
        "\n",
        "            else:\n",
        "                op2.realizar_operacion(gestor= self, op = op, l = self.datos, umbral=self.umbral)\n",
        "\n",
        "\n",
        "#R2. Observer\n",
        "class Observable:\n",
        "    def __init__(self):\n",
        "        self.cliente = None\n",
        "\n",
        "    def activar(self, observer):\n",
        "        self.cliente = observer\n",
        "\n",
        "    def desactivar(self):\n",
        "        self.cliente = None\n",
        "\n",
        "    def notificar(self, dato):\n",
        "        self.cliente.actualizar(dato)\n",
        "\n",
        "class Sensor(Observable):\n",
        "    def __init__(self):\n",
        "        self.dato = None\n",
        "\n",
        "    def enviar_dato(self, dato):\n",
        "        self.dato = dato\n",
        "        self.notificar(self.dato)\n",
        "\n",
        "#R3. Chain of responsibilities\n",
        "class Manejador(ABC):\n",
        "    def __init__(self, successor = None):\n",
        "        self.successor = successor\n",
        "\n",
        "    def realizar_operacion(self):\n",
        "        pass\n",
        "\n",
        "    def set_manejador(self):\n",
        "        pass\n",
        "\n",
        "\n",
        "#R4. Strategy (dentro del R3)\n",
        "class Strategy:\n",
        "    def estrategia(self):\n",
        "        pass\n",
        "\n",
        "class MeanSV(Strategy):\n",
        "    def estrategia(self, d, l):\n",
        "        n = len(l)\n",
        "        mean = round(reduce(lambda x, y: x+y, l) / n, 4)\n",
        "        sv = round(np.sqrt(sum(map(lambda x: (x-mean)**2, l))/(n-1)), 4) if(n-1)!=0 else 0\n",
        "\n",
        "        d[\"media\"] = mean\n",
        "        d[\"Desviacion Tipica\"] = sv\n",
        "\n",
        "class MaxMin(Strategy):\n",
        "    def estrategia(self, d, l):\n",
        "        maximo = reduce(lambda x,y: x if x>y else y, l)\n",
        "        minimo = reduce(lambda x,y: x if x<y else y, l)\n",
        "\n",
        "        d[\"max\"] = maximo\n",
        "        d[\"min\"] = minimo\n",
        "\n",
        "class Quantile(Strategy):\n",
        "    def estrategia(self, d, l):\n",
        "        n = len(l)\n",
        "        l_ordenado = sorted(l)\n",
        "        median = round(list(map(lambda x: x[(n+1)//2 - 1] if n%2 == 1 else ((x[n//2 - 1] + x[(n//2 - 1)+1])/2), [l_ordenado]))[0], 4)\n",
        "        q25 = round(list(map(lambda x: x[(n+1)//4 - 1], [l_ordenado]))[0], 4)\n",
        "        q75 = round(list(map(lambda x: x[(3*(n+1))//4 - 1], [l_ordenado]))[0], 4)\n",
        "\n",
        "        d[\"Q1\"] = q25\n",
        "        d[\"mediana\"] = median\n",
        "        d[\"Q3\"] = q75\n",
        "\n",
        "class Estadistico(Manejador):\n",
        "    def __init__(self, successor = None):\n",
        "        Manejador.__init__(self, successor = successor)\n",
        "        self.estrategia = None\n",
        "\n",
        "    def set_estrategia(self, estrategia:Strategy):\n",
        "        self.estrategia = estrategia\n",
        "\n",
        "    def realizar_operacion(self, op, d, l):\n",
        "        if op == \"estadisticos\":\n",
        "            self.estrategia.estrategia(d,l)\n",
        "\n",
        "        elif self.successor:\n",
        "            self.successor.realizar_operacion(op)\n",
        "\n",
        "    def set_manejador(self, nuevo_manejador):\n",
        "        self.successor = nuevo_manejador\n",
        "\n",
        "\n",
        "class Umbral(Manejador):\n",
        "    def realizar_operacion(self, **kwargs):\n",
        "        op = kwargs[\"op\"]\n",
        "\n",
        "        if op == \"umbral\":\n",
        "            umbral = kwargs[\"umbral\"]\n",
        "            l = kwargs[\"l\"]\n",
        "            gestor = kwargs[\"gestor\"]\n",
        "\n",
        "            overheat = list(filter(lambda x: x[1] > umbral, l))\n",
        "\n",
        "            if len(overheat) == 0:\n",
        "                gestor.supera_umbral = False\n",
        "                #return False\n",
        "\n",
        "            else:\n",
        "                gestor.supera_umbral = overheat\n",
        "                #return overheat\n",
        "\n",
        "        elif self.successor:\n",
        "            self.successor.realizar_operacion(**kwargs)\n",
        "\n",
        "    def set_manejador(self, nuevo_manejador):\n",
        "        self.successor = nuevo_manejador\n",
        "\n",
        "class Sobrecrecimiento(Manejador):\n",
        "    def realizar_operacion(self, **kwargs):\n",
        "        op = kwargs[\"op\"]\n",
        "\n",
        "        if op == \"sobrecrecimiento\":\n",
        "            gestor = kwargs[\"gestor\"]\n",
        "            l = kwargs[\"l\"]\n",
        "\n",
        "            if len(l) <= 1:\n",
        "                gestor.sobrecrecimiento = False\n",
        "                return 0 #para terminar el procesamiento\n",
        "                #return False\n",
        "\n",
        "            elif len(l) <= 6:\n",
        "                l30s = l\n",
        "\n",
        "            else:\n",
        "                l30s = l[-6:]  #last 30 sec\n",
        "\n",
        "            #Vamos a hacerlo por doble puntero xd\n",
        "            i = 0\n",
        "            j = 1\n",
        "\n",
        "            while i < len(l30s):\n",
        "                while j < len(l30s):\n",
        "                    if l30s[j][1] - l30s[i][1] >= 10:\n",
        "\n",
        "                        gestor.sobrecrecimiento = [l30s[i], l30s[j]] #Devuelve la primera pareja de temperaturas cuya diferencia supera los 10º\n",
        "                        return 0\n",
        "\n",
        "                    j = j + 1\n",
        "\n",
        "                i = i + 1\n",
        "                j = i + 1\n",
        "\n",
        "            gestor.sobrecrecimiento = False\n",
        "\n",
        "        elif self.successor:\n",
        "            self.successor.realizar_operacion(**kwargs)\n",
        "\n",
        "    def set_manejador(self, nuevo_manejador):\n",
        "        self.successor = nuevo_manejador\n"
      ],
      "metadata": {
        "id": "fR8EF8XIzcNX"
      },
      "execution_count": null,
      "outputs": []
    },
    {
      "cell_type": "markdown",
      "source": [
        "# DESCARGAR EL FICHERO \"kafkaProducer.py\" Y SUBIRLO AQUÍ ANTES DE CONTINUAR!"
      ],
      "metadata": {
        "id": "H5BRvjM9ojAd"
      }
    },
    {
      "cell_type": "markdown",
      "source": [
        "Ejecutar el Producer en segundo plano:"
      ],
      "metadata": {
        "id": "pSd1jMXrQLP3"
      }
    },
    {
      "cell_type": "code",
      "source": [
        "!nohup python -m kafkaProducer temperaturas 5 &"
      ],
      "metadata": {
        "colab": {
          "base_uri": "https://localhost:8080/"
        },
        "id": "mlfqDPxB8zZo",
        "outputId": "ce388a60-bac5-41c1-a995-e3d2025a80cf"
      },
      "execution_count": null,
      "outputs": [
        {
          "output_type": "stream",
          "name": "stdout",
          "text": [
            "nohup: appending output to 'nohup.out'\n"
          ]
        }
      ]
    },
    {
      "cell_type": "markdown",
      "source": [
        "Para ver los mensajes que se van mandando al tópico:"
      ],
      "metadata": {
        "id": "VsAILgvuQPi5"
      }
    },
    {
      "cell_type": "code",
      "source": [
        "!./kafka_2.13-3.6.2/bin/kafka-console-consumer.sh --topic temperaturas --from-beginning --bootstrap-server localhost:9092"
      ],
      "metadata": {
        "colab": {
          "base_uri": "https://localhost:8080/"
        },
        "id": "hAwgY5l2ei86",
        "outputId": "ff43ef04-19e9-430c-e90f-1eed2929558a"
      },
      "execution_count": null,
      "outputs": [
        {
          "output_type": "stream",
          "name": "stdout",
          "text": [
            "[1715241377.8100538, 29.5065]\n",
            "[1715241377.9282224, 15.1748]\n",
            "[1715241382.9334152, 24.1934]\n",
            "[1715241387.9394464, 16.3888]\n",
            "Processed a total of 4 messages\n"
          ]
        }
      ]
    },
    {
      "cell_type": "markdown",
      "source": [
        "Instanciar el gestor (consumer) y empezar a extraer datos del tópico:"
      ],
      "metadata": {
        "id": "Vnh59QZ8QUiM"
      }
    },
    {
      "cell_type": "code",
      "source": [
        "gestor = SistemaGestor.get_instance(\"temperaturas\")"
      ],
      "metadata": {
        "id": "uf0FecrB9aIT"
      },
      "execution_count": null,
      "outputs": []
    },
    {
      "cell_type": "code",
      "source": [
        "gestor.set_umbral(30)\n",
        "gestor.receive_data_and_process()"
      ],
      "metadata": {
        "id": "XHBWlLGwx0iV",
        "colab": {
          "base_uri": "https://localhost:8080/",
          "height": 460
        },
        "outputId": "15ce4083-8823-4b02-c964-eeff17575a0e"
      },
      "execution_count": null,
      "outputs": [
        {
          "output_type": "stream",
          "name": "stdout",
          "text": [
            "{'media': 34.4033, 'mediana': 34.4033, 'Desviacion Tipica': 0, 'max': 34.4033, 'min': 34.4033, 'Q1': 34.4033, 'Q3': 34.4033}\n",
            "{'media': 32.9768, 'mediana': 32.9768, 'Desviacion Tipica': 2.0174, 'max': 34.4033, 'min': 31.5502, 'Q1': 34.4033, 'Q3': 34.4033}\n",
            "{'media': 27.7713, 'mediana': 31.5502, 'Desviacion Tipica': 9.1283, 'max': 34.4033, 'min': 17.3604, 'Q1': 17.3604, 'Q3': 34.4033}\n",
            "{'media': 30.2895, 'mediana': 32.9768, 'Desviacion Tipica': 8.9953, 'max': 37.8441, 'min': 17.3604, 'Q1': 17.3604, 'Q3': 34.4033}\n",
            "{'media': 26.3514, 'mediana': 31.5502, 'Desviacion Tipica': 11.7571, 'max': 37.8441, 'min': 10.599, 'Q1': 10.599, 'Q3': 34.4033}\n",
            "{'media': 27.0139, 'mediana': 30.9382, 'Desviacion Tipica': 10.6403, 'max': 37.8441, 'min': 10.599, 'Q1': 10.599, 'Q3': 34.4033}\n",
            "{'media': 26.2191, 'mediana': 30.3262, 'Desviacion Tipica': 9.9383, 'max': 37.8441, 'min': 10.599, 'Q1': 17.3604, 'Q3': 34.4033}\n",
            "{'media': 24.3286, 'mediana': 25.8882, 'Desviacion Tipica': 10.6419, 'max': 37.8441, 'min': 10.599, 'Q1': 11.0952, 'Q3': 31.5502}\n",
            "{'media': 25.3479, 'mediana': 30.3262, 'Desviacion Tipica': 10.4137, 'max': 37.8441, 'min': 10.599, 'Q1': 11.0952, 'Q3': 33.5021}\n"
          ]
        },
        {
          "output_type": "error",
          "ename": "KeyboardInterrupt",
          "evalue": "",
          "traceback": [
            "\u001b[0;31m---------------------------------------------------------------------------\u001b[0m",
            "\u001b[0;31mKeyboardInterrupt\u001b[0m                         Traceback (most recent call last)",
            "\u001b[0;32m<ipython-input-6-8055f7de124f>\u001b[0m in \u001b[0;36m<cell line: 2>\u001b[0;34m()\u001b[0m\n\u001b[1;32m      1\u001b[0m \u001b[0mgestor\u001b[0m\u001b[0;34m.\u001b[0m\u001b[0mset_umbral\u001b[0m\u001b[0;34m(\u001b[0m\u001b[0;36m30\u001b[0m\u001b[0;34m)\u001b[0m\u001b[0;34m\u001b[0m\u001b[0;34m\u001b[0m\u001b[0m\n\u001b[0;32m----> 2\u001b[0;31m \u001b[0mgestor\u001b[0m\u001b[0;34m.\u001b[0m\u001b[0mreceive_data_and_process\u001b[0m\u001b[0;34m(\u001b[0m\u001b[0;34m)\u001b[0m\u001b[0;34m\u001b[0m\u001b[0;34m\u001b[0m\u001b[0m\n\u001b[0m",
            "\u001b[0;32m<ipython-input-3-98ba0e95c685>\u001b[0m in \u001b[0;36mreceive_data_and_process\u001b[0;34m(self)\u001b[0m\n\u001b[1;32m     52\u001b[0m         \u001b[0maccede\u001b[0m \u001b[0mal\u001b[0m \u001b[0mtópico\u001b[0m\u001b[0;34m,\u001b[0m \u001b[0mextrae\u001b[0m \u001b[0my\u001b[0m \u001b[0malmacena\u001b[0m \u001b[0mlos\u001b[0m \u001b[0mdatos\u001b[0m \u001b[0mpara\u001b[0m \u001b[0mrealizar\u001b[0m \u001b[0mel\u001b[0m \u001b[0mprocesado\u001b[0m\u001b[0;34m.\u001b[0m\u001b[0;34m\u001b[0m\u001b[0;34m\u001b[0m\u001b[0m\n\u001b[1;32m     53\u001b[0m         \"\"\"\n\u001b[0;32m---> 54\u001b[0;31m         \u001b[0;32mfor\u001b[0m \u001b[0mmessage\u001b[0m \u001b[0;32min\u001b[0m \u001b[0mself\u001b[0m\u001b[0;34m.\u001b[0m\u001b[0m_consumer\u001b[0m\u001b[0;34m:\u001b[0m\u001b[0;34m\u001b[0m\u001b[0;34m\u001b[0m\u001b[0m\n\u001b[0m\u001b[1;32m     55\u001b[0m             \u001b[0mself\u001b[0m\u001b[0;34m.\u001b[0m\u001b[0mactualizar\u001b[0m\u001b[0;34m(\u001b[0m\u001b[0mmessage\u001b[0m\u001b[0;34m.\u001b[0m\u001b[0mvalue\u001b[0m\u001b[0;34m)\u001b[0m\u001b[0;34m\u001b[0m\u001b[0;34m\u001b[0m\u001b[0m\n\u001b[1;32m     56\u001b[0m             \u001b[0mself\u001b[0m\u001b[0;34m.\u001b[0m\u001b[0mprocesar\u001b[0m\u001b[0;34m(\u001b[0m\u001b[0;34m)\u001b[0m\u001b[0;34m\u001b[0m\u001b[0;34m\u001b[0m\u001b[0m\n",
            "\u001b[0;32m/usr/local/lib/python3.10/dist-packages/kafka/consumer/group.py\u001b[0m in \u001b[0;36m__next__\u001b[0;34m(self)\u001b[0m\n\u001b[1;32m   1191\u001b[0m             \u001b[0;32mreturn\u001b[0m \u001b[0mself\u001b[0m\u001b[0;34m.\u001b[0m\u001b[0mnext_v1\u001b[0m\u001b[0;34m(\u001b[0m\u001b[0;34m)\u001b[0m\u001b[0;34m\u001b[0m\u001b[0;34m\u001b[0m\u001b[0m\n\u001b[1;32m   1192\u001b[0m         \u001b[0;32melse\u001b[0m\u001b[0;34m:\u001b[0m\u001b[0;34m\u001b[0m\u001b[0;34m\u001b[0m\u001b[0m\n\u001b[0;32m-> 1193\u001b[0;31m             \u001b[0;32mreturn\u001b[0m \u001b[0mself\u001b[0m\u001b[0;34m.\u001b[0m\u001b[0mnext_v2\u001b[0m\u001b[0;34m(\u001b[0m\u001b[0;34m)\u001b[0m\u001b[0;34m\u001b[0m\u001b[0;34m\u001b[0m\u001b[0m\n\u001b[0m\u001b[1;32m   1194\u001b[0m \u001b[0;34m\u001b[0m\u001b[0m\n\u001b[1;32m   1195\u001b[0m     \u001b[0;32mdef\u001b[0m \u001b[0mnext_v2\u001b[0m\u001b[0;34m(\u001b[0m\u001b[0mself\u001b[0m\u001b[0;34m)\u001b[0m\u001b[0;34m:\u001b[0m\u001b[0;34m\u001b[0m\u001b[0;34m\u001b[0m\u001b[0m\n",
            "\u001b[0;32m/usr/local/lib/python3.10/dist-packages/kafka/consumer/group.py\u001b[0m in \u001b[0;36mnext_v2\u001b[0;34m(self)\u001b[0m\n\u001b[1;32m   1199\u001b[0m                 \u001b[0mself\u001b[0m\u001b[0;34m.\u001b[0m\u001b[0m_iterator\u001b[0m \u001b[0;34m=\u001b[0m \u001b[0mself\u001b[0m\u001b[0;34m.\u001b[0m\u001b[0m_message_generator_v2\u001b[0m\u001b[0;34m(\u001b[0m\u001b[0;34m)\u001b[0m\u001b[0;34m\u001b[0m\u001b[0;34m\u001b[0m\u001b[0m\n\u001b[1;32m   1200\u001b[0m             \u001b[0;32mtry\u001b[0m\u001b[0;34m:\u001b[0m\u001b[0;34m\u001b[0m\u001b[0;34m\u001b[0m\u001b[0m\n\u001b[0;32m-> 1201\u001b[0;31m                 \u001b[0;32mreturn\u001b[0m \u001b[0mnext\u001b[0m\u001b[0;34m(\u001b[0m\u001b[0mself\u001b[0m\u001b[0;34m.\u001b[0m\u001b[0m_iterator\u001b[0m\u001b[0;34m)\u001b[0m\u001b[0;34m\u001b[0m\u001b[0;34m\u001b[0m\u001b[0m\n\u001b[0m\u001b[1;32m   1202\u001b[0m             \u001b[0;32mexcept\u001b[0m \u001b[0mStopIteration\u001b[0m\u001b[0;34m:\u001b[0m\u001b[0;34m\u001b[0m\u001b[0;34m\u001b[0m\u001b[0m\n\u001b[1;32m   1203\u001b[0m                 \u001b[0mself\u001b[0m\u001b[0;34m.\u001b[0m\u001b[0m_iterator\u001b[0m \u001b[0;34m=\u001b[0m \u001b[0;32mNone\u001b[0m\u001b[0;34m\u001b[0m\u001b[0;34m\u001b[0m\u001b[0m\n",
            "\u001b[0;32m/usr/local/lib/python3.10/dist-packages/kafka/consumer/group.py\u001b[0m in \u001b[0;36m_message_generator_v2\u001b[0;34m(self)\u001b[0m\n\u001b[1;32m   1114\u001b[0m     \u001b[0;32mdef\u001b[0m \u001b[0m_message_generator_v2\u001b[0m\u001b[0;34m(\u001b[0m\u001b[0mself\u001b[0m\u001b[0;34m)\u001b[0m\u001b[0;34m:\u001b[0m\u001b[0;34m\u001b[0m\u001b[0;34m\u001b[0m\u001b[0m\n\u001b[1;32m   1115\u001b[0m         \u001b[0mtimeout_ms\u001b[0m \u001b[0;34m=\u001b[0m \u001b[0;36m1000\u001b[0m \u001b[0;34m*\u001b[0m \u001b[0;34m(\u001b[0m\u001b[0mself\u001b[0m\u001b[0;34m.\u001b[0m\u001b[0m_consumer_timeout\u001b[0m \u001b[0;34m-\u001b[0m \u001b[0mtime\u001b[0m\u001b[0;34m.\u001b[0m\u001b[0mtime\u001b[0m\u001b[0;34m(\u001b[0m\u001b[0;34m)\u001b[0m\u001b[0;34m)\u001b[0m\u001b[0;34m\u001b[0m\u001b[0;34m\u001b[0m\u001b[0m\n\u001b[0;32m-> 1116\u001b[0;31m         \u001b[0mrecord_map\u001b[0m \u001b[0;34m=\u001b[0m \u001b[0mself\u001b[0m\u001b[0;34m.\u001b[0m\u001b[0mpoll\u001b[0m\u001b[0;34m(\u001b[0m\u001b[0mtimeout_ms\u001b[0m\u001b[0;34m=\u001b[0m\u001b[0mtimeout_ms\u001b[0m\u001b[0;34m,\u001b[0m \u001b[0mupdate_offsets\u001b[0m\u001b[0;34m=\u001b[0m\u001b[0;32mFalse\u001b[0m\u001b[0;34m)\u001b[0m\u001b[0;34m\u001b[0m\u001b[0;34m\u001b[0m\u001b[0m\n\u001b[0m\u001b[1;32m   1117\u001b[0m         \u001b[0;32mfor\u001b[0m \u001b[0mtp\u001b[0m\u001b[0;34m,\u001b[0m \u001b[0mrecords\u001b[0m \u001b[0;32min\u001b[0m \u001b[0msix\u001b[0m\u001b[0;34m.\u001b[0m\u001b[0miteritems\u001b[0m\u001b[0;34m(\u001b[0m\u001b[0mrecord_map\u001b[0m\u001b[0;34m)\u001b[0m\u001b[0;34m:\u001b[0m\u001b[0;34m\u001b[0m\u001b[0;34m\u001b[0m\u001b[0m\n\u001b[1;32m   1118\u001b[0m             \u001b[0;31m# Generators are stateful, and it is possible that the tp / records\u001b[0m\u001b[0;34m\u001b[0m\u001b[0;34m\u001b[0m\u001b[0m\n",
            "\u001b[0;32m/usr/local/lib/python3.10/dist-packages/kafka/consumer/group.py\u001b[0m in \u001b[0;36mpoll\u001b[0;34m(self, timeout_ms, max_records, update_offsets)\u001b[0m\n\u001b[1;32m    653\u001b[0m         \u001b[0mremaining\u001b[0m \u001b[0;34m=\u001b[0m \u001b[0mtimeout_ms\u001b[0m\u001b[0;34m\u001b[0m\u001b[0;34m\u001b[0m\u001b[0m\n\u001b[1;32m    654\u001b[0m         \u001b[0;32mwhile\u001b[0m \u001b[0;32mTrue\u001b[0m\u001b[0;34m:\u001b[0m\u001b[0;34m\u001b[0m\u001b[0;34m\u001b[0m\u001b[0m\n\u001b[0;32m--> 655\u001b[0;31m             \u001b[0mrecords\u001b[0m \u001b[0;34m=\u001b[0m \u001b[0mself\u001b[0m\u001b[0;34m.\u001b[0m\u001b[0m_poll_once\u001b[0m\u001b[0;34m(\u001b[0m\u001b[0mremaining\u001b[0m\u001b[0;34m,\u001b[0m \u001b[0mmax_records\u001b[0m\u001b[0;34m,\u001b[0m \u001b[0mupdate_offsets\u001b[0m\u001b[0;34m=\u001b[0m\u001b[0mupdate_offsets\u001b[0m\u001b[0;34m)\u001b[0m\u001b[0;34m\u001b[0m\u001b[0;34m\u001b[0m\u001b[0m\n\u001b[0m\u001b[1;32m    656\u001b[0m             \u001b[0;32mif\u001b[0m \u001b[0mrecords\u001b[0m\u001b[0;34m:\u001b[0m\u001b[0;34m\u001b[0m\u001b[0;34m\u001b[0m\u001b[0m\n\u001b[1;32m    657\u001b[0m                 \u001b[0;32mreturn\u001b[0m \u001b[0mrecords\u001b[0m\u001b[0;34m\u001b[0m\u001b[0;34m\u001b[0m\u001b[0m\n",
            "\u001b[0;32m/usr/local/lib/python3.10/dist-packages/kafka/consumer/group.py\u001b[0m in \u001b[0;36m_poll_once\u001b[0;34m(self, timeout_ms, max_records, update_offsets)\u001b[0m\n\u001b[1;32m    700\u001b[0m \u001b[0;34m\u001b[0m\u001b[0m\n\u001b[1;32m    701\u001b[0m         \u001b[0mtimeout_ms\u001b[0m \u001b[0;34m=\u001b[0m \u001b[0mmin\u001b[0m\u001b[0;34m(\u001b[0m\u001b[0mtimeout_ms\u001b[0m\u001b[0;34m,\u001b[0m \u001b[0mself\u001b[0m\u001b[0;34m.\u001b[0m\u001b[0m_coordinator\u001b[0m\u001b[0;34m.\u001b[0m\u001b[0mtime_to_next_poll\u001b[0m\u001b[0;34m(\u001b[0m\u001b[0;34m)\u001b[0m \u001b[0;34m*\u001b[0m \u001b[0;36m1000\u001b[0m\u001b[0;34m)\u001b[0m\u001b[0;34m\u001b[0m\u001b[0;34m\u001b[0m\u001b[0m\n\u001b[0;32m--> 702\u001b[0;31m         \u001b[0mself\u001b[0m\u001b[0;34m.\u001b[0m\u001b[0m_client\u001b[0m\u001b[0;34m.\u001b[0m\u001b[0mpoll\u001b[0m\u001b[0;34m(\u001b[0m\u001b[0mtimeout_ms\u001b[0m\u001b[0;34m=\u001b[0m\u001b[0mtimeout_ms\u001b[0m\u001b[0;34m)\u001b[0m\u001b[0;34m\u001b[0m\u001b[0;34m\u001b[0m\u001b[0m\n\u001b[0m\u001b[1;32m    703\u001b[0m         \u001b[0;31m# after the long poll, we should check whether the group needs to rebalance\u001b[0m\u001b[0;34m\u001b[0m\u001b[0;34m\u001b[0m\u001b[0m\n\u001b[1;32m    704\u001b[0m         \u001b[0;31m# prior to returning data so that the group can stabilize faster\u001b[0m\u001b[0;34m\u001b[0m\u001b[0;34m\u001b[0m\u001b[0m\n",
            "\u001b[0;32m/usr/local/lib/python3.10/dist-packages/kafka/client_async.py\u001b[0m in \u001b[0;36mpoll\u001b[0;34m(self, timeout_ms, future)\u001b[0m\n\u001b[1;32m    600\u001b[0m                     \u001b[0mtimeout\u001b[0m \u001b[0;34m=\u001b[0m \u001b[0mmax\u001b[0m\u001b[0;34m(\u001b[0m\u001b[0;36m0\u001b[0m\u001b[0;34m,\u001b[0m \u001b[0mtimeout\u001b[0m\u001b[0;34m)\u001b[0m  \u001b[0;31m# avoid negative timeouts\u001b[0m\u001b[0;34m\u001b[0m\u001b[0;34m\u001b[0m\u001b[0m\n\u001b[1;32m    601\u001b[0m \u001b[0;34m\u001b[0m\u001b[0m\n\u001b[0;32m--> 602\u001b[0;31m                 \u001b[0mself\u001b[0m\u001b[0;34m.\u001b[0m\u001b[0m_poll\u001b[0m\u001b[0;34m(\u001b[0m\u001b[0mtimeout\u001b[0m \u001b[0;34m/\u001b[0m \u001b[0;36m1000\u001b[0m\u001b[0;34m)\u001b[0m\u001b[0;34m\u001b[0m\u001b[0;34m\u001b[0m\u001b[0m\n\u001b[0m\u001b[1;32m    603\u001b[0m \u001b[0;34m\u001b[0m\u001b[0m\n\u001b[1;32m    604\u001b[0m             \u001b[0;31m# called without the lock to avoid deadlock potential\u001b[0m\u001b[0;34m\u001b[0m\u001b[0;34m\u001b[0m\u001b[0m\n",
            "\u001b[0;32m/usr/local/lib/python3.10/dist-packages/kafka/client_async.py\u001b[0m in \u001b[0;36m_poll\u001b[0;34m(self, timeout)\u001b[0m\n\u001b[1;32m    632\u001b[0m \u001b[0;34m\u001b[0m\u001b[0m\n\u001b[1;32m    633\u001b[0m         \u001b[0mstart_select\u001b[0m \u001b[0;34m=\u001b[0m \u001b[0mtime\u001b[0m\u001b[0;34m.\u001b[0m\u001b[0mtime\u001b[0m\u001b[0;34m(\u001b[0m\u001b[0;34m)\u001b[0m\u001b[0;34m\u001b[0m\u001b[0;34m\u001b[0m\u001b[0m\n\u001b[0;32m--> 634\u001b[0;31m         \u001b[0mready\u001b[0m \u001b[0;34m=\u001b[0m \u001b[0mself\u001b[0m\u001b[0;34m.\u001b[0m\u001b[0m_selector\u001b[0m\u001b[0;34m.\u001b[0m\u001b[0mselect\u001b[0m\u001b[0;34m(\u001b[0m\u001b[0mtimeout\u001b[0m\u001b[0;34m)\u001b[0m\u001b[0;34m\u001b[0m\u001b[0;34m\u001b[0m\u001b[0m\n\u001b[0m\u001b[1;32m    635\u001b[0m         \u001b[0mend_select\u001b[0m \u001b[0;34m=\u001b[0m \u001b[0mtime\u001b[0m\u001b[0;34m.\u001b[0m\u001b[0mtime\u001b[0m\u001b[0;34m(\u001b[0m\u001b[0;34m)\u001b[0m\u001b[0;34m\u001b[0m\u001b[0;34m\u001b[0m\u001b[0m\n\u001b[1;32m    636\u001b[0m         \u001b[0;32mif\u001b[0m \u001b[0mself\u001b[0m\u001b[0;34m.\u001b[0m\u001b[0m_sensors\u001b[0m\u001b[0;34m:\u001b[0m\u001b[0;34m\u001b[0m\u001b[0;34m\u001b[0m\u001b[0m\n",
            "\u001b[0;32m/usr/lib/python3.10/selectors.py\u001b[0m in \u001b[0;36mselect\u001b[0;34m(self, timeout)\u001b[0m\n\u001b[1;32m    467\u001b[0m             \u001b[0mready\u001b[0m \u001b[0;34m=\u001b[0m \u001b[0;34m[\u001b[0m\u001b[0;34m]\u001b[0m\u001b[0;34m\u001b[0m\u001b[0;34m\u001b[0m\u001b[0m\n\u001b[1;32m    468\u001b[0m             \u001b[0;32mtry\u001b[0m\u001b[0;34m:\u001b[0m\u001b[0;34m\u001b[0m\u001b[0;34m\u001b[0m\u001b[0m\n\u001b[0;32m--> 469\u001b[0;31m                 \u001b[0mfd_event_list\u001b[0m \u001b[0;34m=\u001b[0m \u001b[0mself\u001b[0m\u001b[0;34m.\u001b[0m\u001b[0m_selector\u001b[0m\u001b[0;34m.\u001b[0m\u001b[0mpoll\u001b[0m\u001b[0;34m(\u001b[0m\u001b[0mtimeout\u001b[0m\u001b[0;34m,\u001b[0m \u001b[0mmax_ev\u001b[0m\u001b[0;34m)\u001b[0m\u001b[0;34m\u001b[0m\u001b[0;34m\u001b[0m\u001b[0m\n\u001b[0m\u001b[1;32m    470\u001b[0m             \u001b[0;32mexcept\u001b[0m \u001b[0mInterruptedError\u001b[0m\u001b[0;34m:\u001b[0m\u001b[0;34m\u001b[0m\u001b[0;34m\u001b[0m\u001b[0m\n\u001b[1;32m    471\u001b[0m                 \u001b[0;32mreturn\u001b[0m \u001b[0mready\u001b[0m\u001b[0;34m\u001b[0m\u001b[0;34m\u001b[0m\u001b[0m\n",
            "\u001b[0;31mKeyboardInterrupt\u001b[0m: "
          ]
        }
      ]
    }
  ]
}